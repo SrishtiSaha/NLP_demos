{
 "cells": [
  {
   "cell_type": "markdown",
   "metadata": {},
   "source": [
    "## Example of text generation using GPT-J\n",
    "\n",
    "The source code has been adapted and used from:\n",
    "1. https://huggingface.co/docs/transformers/model_doc/gptj#generation\n",
    "2. https://github.com/ymoslem/MT-LM\n",
    "\n",
    "The below demo is a smple example of how to provide input strings as prompts for the model to generate new text related to the domain of teh input text."
   ]
  },
  {
   "cell_type": "code",
   "execution_count": 2,
   "metadata": {},
   "outputs": [],
   "source": [
    "import torch\n",
    "from transformers import GPTJForCausalLM, AutoTokenizer\n",
    "\n",
    "device = torch.device(\"cuda\" if torch.cuda.is_available() else \"cpu\")\n",
    "\n",
    "tokenizer = AutoTokenizer.from_pretrained(\"EleutherAI/gpt-j-6B\")\n",
    "model = GPTJForCausalLM.from_pretrained(\"EleutherAI/gpt-j-6B\", \n",
    "                                        revision=\"float16\",\n",
    "                                        torch_dtype=torch.float16,\n",
    "                                        cache_dir = \"models_cache/\",\n",
    "                                        pad_token_id=tokenizer.eos_token_id,\n",
    "                                        low_cpu_mem_usage=True)\n",
    "model.to(device)\n"
   ]
  },
  {
   "cell_type": "code",
   "execution_count": null,
   "metadata": {},
   "outputs": [
    {
     "name": "stdout",
     "output_type": "stream",
     "text": [
      "<_io.BufferedReader name='target.txt'>\n",
      "<built-in method read of _io.FileIO object at 0x7fa750e421f8>\n",
      "b'Google on Thursday announced the Pixel 7 and Pixel 7 Pro phones and its first watch, the Pixel Watch, in the New York City event.\\nAs they seek to reduce their carbon footprint, power plants around the world are increasingly replacing coal with natural gas, which releases far less carbon into the atmosphere when burned for fuel.\\nImage generation uses techniques from a subset of machine learning called deep learning, which has driven most of the advancements in the field of artificial intelligence since a landmark 2012 paper about image classification ignited renewed interest in the technology.'\n",
      "Line count: 3\n"
     ]
    }
   ],
   "source": [
    "def line_count(filename):\n",
    "    f = open(filename, 'rb')\n",
    "    print(f)\n",
    "    lines = 0\n",
    "    buf_size = 1024 * 1024\n",
    "    read_f = f.raw.read\n",
    "    print(read_f)\n",
    "\n",
    "    buf = read_f(buf_size)\n",
    "    print(buf)\n",
    "    while buf:\n",
    "        lines += buf.count(b'\\n')\n",
    "        buf = read_f(buf_size)\n",
    "    lines = lines +1\n",
    "    return lines\n",
    "\n",
    "\n",
    "target_file = \"target.txt\"\n",
    "output_file = \"output.txt\"\n",
    "\n",
    "tqdm_total = line_count(target_file)\n",
    "print(\"Line count:\", tqdm_total)"
   ]
  },
  {
   "cell_type": "code",
   "execution_count": null,
   "metadata": {},
   "outputs": [
    {
     "name": "stderr",
     "output_type": "stream",
     "text": [
      " 33%|███▎      | 1/3 [00:25<00:50, 25.08s/it]"
     ]
    },
    {
     "name": "stdout",
     "output_type": "stream",
     "text": [
      "[\"Google on Thursday announced the Pixel 7 and Pixel 7 Pro phones and its first watch, the Pixel Watch, in the New York City event. It's an interesting mix that will be interesting to see how they all fit together.\\n\\nGoogle’s Pixel phones are the most important of the three as the company has not just created its own hardware, but has taken a hardware philosophy that is focused on user experience, AI, and productivity. The Pixel phones also help it get into the wearable segment and become the first major company to launch a standalone smartwatch.\\n\\nWith the new Google Pixel 7, Google is taking a modular approach with hardware — the company built Pixel Stand instead of relying on an accessory case, and the Pixel 7 is built for modularity by having both wireless and USB charging cables inside the phone. The company has also focused on its software — Android 10 has a refreshed UI, a revamped navigation, Google Play Protect, Doze and App Standby to keep the battery alive.\\n\\nHere's all you need to know about the new Google Pixel 7 phones.\\n\\nGoogle Pixel 7 and Pixel 7 Pro specs, pricing, availability\\n\\nGoogle unveiled two smartphones, the Pixel 7 and Pixel 7 Pro, at its New York City event on Thursday:\\n\\nGoogle Pixel 7: Rs 39,990 in India, starting May 3; 64GB storage variant\\n\\nGoogle Pixel 7 Pro: Rs 53,900 in India, starting May 3; 128GB storage variant\\n\", 'Google on Thursday announced the Pixel 7 and Pixel 7 Pro phones and its first watch, the Pixel Watch, in the New York City event.\\n\\nThere\\'s a lot of hardware to go through and, as expected, most of it isn\\'t as big of a deal to the average user as the Pixel brand and the $700 to $800 price tag may be. Most of the phones and smartwatches you get at the price point will still have some cool features that appeal to the geekier elements of the Android user base, but Google is hoping its Pixel phones and smartwatches are attractive to more users in the mainstream market and that they do well in that regard.\\n\\nAs expected, the Pixel 7 and Pixel 7 Pro are essentially a notch update of the 5-series Pixel phones from 2017. Google is continuing to push its notch as a feature to put pressure on competitors to adopt similar designs, and it\\'s hard to argue that the notch isn\\'t one of the more attention-grabbing visual elements on a smartphone. Google says the notch makes a positive impact on screen real estate, and it\\'s true: I found the Pixel phones\\' screens, which I used most days, to have noticeably less bezel than any iPhone. Even as that bezel got thinner on the 6-series phones, that difference was still there.\\n\\nGoogle\\n\\nGoogle\\'s \"Pixel phones are for people, not pixels\" motto is the reason it is taking this approach on the Pixel phone', \"Google on Thursday announced the Pixel 7 and Pixel 7 Pro phones and its first watch, the Pixel Watch, in the New York City event. The Google Pixel 7 comes with a 6.64-inch display with hole-punch display design. Google Pixel 7 Pro comes with a bigger screen of 6.99-inch design. Both these phones will be available in Blue, White, Black, and Product Red color variants and are priced at $649 and $799, respectively.\\n\\nBoth the Pixel 7 and 7 Pro feature Google's Pixel Visual Core, which is AI-powered and aims to enhance the overall camera experience on the phone. The phone is powered by the Qualcomm Snapdragon 855 with 8GB RAM. Google Pixel 7 also features dual stereo speakers, a 16-megapixel camera with laser focus, and a single selfie camera. Google Pixel 7 Pro has a bigger screen of 6.99-inch with an aspect ratio of 18:9, which gives it a slightly wider display than that of Pixel 7. The smartphone comes with triple rear cameras (20MP, 12MP, and 8MP) with f/1.7 aperture, dual stereo speakers, and the latest iteration of Google Lens which includes Google Lens Effects, Google Lens Super Res Zoom, Google Lens GIF, etc.\\n\\nThe Pixel Watch is a standalone smartwatch. It has two sizes of display — 1.3-inch and 1.4-inch. Google Pixel Watch runs Android Wear, with the Google\", 'Google on Thursday announced the Pixel 7 and Pixel 7 Pro phones and its first watch, the Pixel Watch, in the New York City event.\\n\\nGoogle also confirmed that it would add three new Assistant features to the Pixel lineup in the next year. It said these features would be available to more users with the Google Pixel 7 and Pixel 7 Pro, Google Pixel Watch and Google Home devices.\\n\\nThe company also revealed plans to launch the Google Pixel 2 and the Pixel 2 XL on August 29.\\n\\nPixel 7 and Pixel 7 Pro\\n\\nThe Pixel 7 and Pixel 7 Pro — Google’s second generation Pixel phones — will be the first smartphones from the company with 10 nm and 7 nm SoCs, respectively.\\n\\nGoogle has partnered with TSMC for both SoCs. The 7 nm SoC will be the first time that Qualcomm has adopted a 10 nm design. While its 10 nm chip is more than 20 percent smaller than Qualcomm’s 14 nm chip, TSMC will also likely need more time to ramp its capabilities.\\n\\nQualcomm and TSMC announced a partnership in March. Both companies will jointly develop chips based on TSMC’s 7 nm, 10 nm and 12 nm technologies. Qualcomm’s mobile chip portfolio will include Qualcomm Snapdragon SoCs and its new line of XR chips.\\n\\nThe 10 nm chip will be Qualcomm’s first 7 nm chip. TSMC will provide the 7 nm chips for Qualcomm’s Snapdragon', 'Google on Thursday announced the Pixel 7 and Pixel 7 Pro phones and its first watch, the Pixel Watch, in the New York City event. The Pixel 7 has the same features as last year\\'s Pixel 6 and 7 including a Snapdragon 855 chipset and an improved camera with \"Night Sight\" and \"Super Res Zoom.\"\\n\\nBoth phones can run a full day on a single charge, Google said. They have an 18:9 aspect ratio screen, a 4,000mAh battery, and are powered by the latest Android 9.0 Pie. It\\'s available in white, black, and blue options with the option of a dark green or minty-green color scheme (only the Pixel 7 Pro will come in that color).\\n\\nThe Google Pixel 7 will start at $799 and the Pixel 7 Pro at $999. It\\'s available for preorder starting today with an expected shipping date on October 17.\\n\\nThe Google Pixel 7 Pro is similar to last year\\'s Pixel 7, but it comes with a few more additions. Its main camera has a new feature called \"Portrait Mode for People\" that allows you to take photos of people in an out-of-focus blur. For the front camera, Google says the Pixel 7 Pro has a single \"Beauty Focus\" mode that\\'ll allow you to blur focus when taking selfies.\\n\\nA few new hardware features for the Pixel include a fingerprint sensor embedded in the screen that activates the phone with a \"swipe.\"']\n",
      "It's an interesting mix that will be interesting to see how they all fit together.\n",
      "Google’s Pixel phones are the most important of the three as the company has not just created its own hardware, but has taken a hardware philosophy that is focused on user experience, AI, and productivity.\n",
      "The Pixel phones also help it get into the wearable segment and become the first major company to launch a standalone smartwatch.\n",
      "With the new Google Pixel 7, Google is taking a modular approach with hardware — the company built Pixel Stand instead of relying on an accessory case, and the Pixel 7 is built for modularity by having both wireless and USB charging cables inside the phone.\n",
      "The company has also focused on its software — Android 10 has a refreshed UI, a revamped navigation, Google Play Protect, Doze and App Standby to keep the battery alive.\n",
      "Here's all you need to know about the new Google Pixel 7 phones.\n",
      "\n",
      "There's a lot of hardware to go through and, as expected, most of it isn't as big of a deal to the average user as the Pixel brand and the $700 to $800 price tag may be.\n",
      "Most of the phones and smartwatches you get at the price point will still have some cool features that appeal to the geekier elements of the Android user base, but Google is hoping its Pixel phones and smartwatches are attractive to more users in the mainstream market and that they do well in that regard.\n",
      "As expected, the Pixel 7 and Pixel 7 Pro are essentially a notch update of the 5-series Pixel phones from 2017.\n",
      "Google is continuing to push its notch as a feature to put pressure on competitors to adopt similar designs, and it's hard to argue that the notch isn't one of the more attention-grabbing visual elements on a smartphone.\n",
      "Google says the notch makes a positive impact on screen real estate, and it's true: I found the Pixel phones' screens, which I used most days, to have noticeably less bezel than any iPhone.\n",
      "Even as that bezel got thinner on the 6-series phones, that difference was still there.\n",
      "\n",
      "The Google Pixel 7 comes with a 6.64-inch display with hole-punch display design.\n",
      "Google Pixel 7 Pro comes with a bigger screen of 6.99-inch design.\n",
      "Both these phones will be available in Blue, White, Black, and Product Red color variants and are priced at $649 and $799, respectively.\n",
      "Both the Pixel 7 and 7 Pro feature Google's Pixel Visual Core, which is AI-powered and aims to enhance the overall camera experience on the phone.\n",
      "The phone is powered by the Qualcomm Snapdragon 855 with 8GB RAM.\n",
      "Google Pixel 7 also features dual stereo speakers, a 16-megapixel camera with laser focus, and a single selfie camera.\n",
      "Google Pixel 7 Pro has a bigger screen of 6.99-inch with an aspect ratio of 18:9, which gives it a slightly wider display than that of Pixel 7.\n",
      "The smartphone comes with triple rear cameras (20MP, 12MP, and 8MP) with f/1.7 aperture, dual stereo speakers, and the latest iteration of Google Lens which includes Google Lens Effects, Google Lens Super Res Zoom, Google Lens GIF, etc.\n",
      "The Pixel Watch is a standalone smartwatch.\n",
      "It has two sizes of display — 1.3-inch and 1.4-inch.\n",
      "\n",
      "Google also confirmed that it would add three new Assistant features to the Pixel lineup in the next year.\n",
      "It said these features would be available to more users with the Google Pixel 7 and Pixel 7 Pro, Google Pixel Watch and Google Home devices.\n",
      "The company also revealed plans to launch the Google Pixel 2 and the Pixel 2 XL on August 29.\n",
      "Pixel 7 and Pixel 7 Pro\n",
      "\n",
      "The Pixel 7 and Pixel 7 Pro — Google’s second generation Pixel phones — will be the first smartphones from the company with 10 nm and 7 nm SoCs, respectively.\n",
      "Google has partnered with TSMC for both SoCs.\n",
      "The 7 nm SoC will be the first time that Qualcomm has adopted a 10 nm design.\n",
      "While its 10 nm chip is more than 20 percent smaller than Qualcomm’s 14 nm chip, TSMC will also likely need more time to ramp its capabilities.\n",
      "Qualcomm and TSMC announced a partnership in March.\n",
      "Both companies will jointly develop chips based on TSMC’s 7 nm, 10 nm and 12 nm technologies.\n",
      "Qualcomm’s mobile chip portfolio will include Qualcomm Snapdragon SoCs and its new line of XR chips.\n",
      "The 10 nm chip will be Qualcomm’s first 7 nm chip.\n",
      "\n",
      "The Pixel 7 has the same features as last year's Pixel 6 and 7 including a Snapdragon 855 chipset and an improved camera with \"Night Sight\" and \"Super Res Zoom.\"\n",
      "Both phones can run a full day on a single charge, Google said.\n",
      "They have an 18:9 aspect ratio screen, a 4,000mAh battery, and are powered by the latest Android 9.0 Pie.\n",
      "It's available in white, black, and blue options with the option of a dark green or minty-green color scheme (only the Pixel 7 Pro will come in that color).\n",
      "The Google Pixel 7 will start at $799 and the Pixel 7 Pro at $999.\n",
      "It's available for preorder starting today with an expected shipping date on October 17.\n",
      "The Google Pixel 7 Pro is similar to last year's Pixel 7, but it comes with a few more additions.\n",
      "Its main camera has a new feature called \"Portrait Mode for People\" that allows you to take photos of people in an out-of-focus blur.\n",
      "For the front camera, Google says the Pixel 7 Pro has a single \"Beauty Focus\" mode that'll allow you to blur focus when taking selfies.\n",
      "\n"
     ]
    },
    {
     "name": "stderr",
     "output_type": "stream",
     "text": [
      " 67%|██████▋   | 2/3 [00:45<00:22, 22.05s/it]"
     ]
    },
    {
     "name": "stdout",
     "output_type": "stream",
     "text": [
      "[\"As they seek to reduce their carbon footprint, power plants around the world are increasingly replacing coal with natural gas, which releases far less carbon into the atmosphere when burned for fuel.\\n\\nBut while coal is far more carbon-intensive than natural gas, according to a 2011 U.S. Energy Information Administration study, there are no accurate, nationwide-scale data on the carbon-intensity of other power-plant fuels, like biomass, oil and petroleum coke.\\n\\nThis means some carbon emissions data that should not be confused with others.\\n\\nFor instance, there's a misconception among many people and some lawmakers that coal-fired power plants are among the largest sources of greenhouse gases worldwide and responsible for the largest share of U.S. emissions that contribute to climate change. But the Energy Information Administration's data suggest otherwise:\\n\\nU.S. coal-fired power plants are responsible for just 10% of U.S. greenhouse gas emissions in 2010.\\n\\nThe same holds true globally: U.S. coal-fired power plants' share of greenhouse gas emissions was below 3%, according to estimates from a recent global climate report.\\n\\nU.S. coal-fired power plants emitted just over 3.3 million metric tons of carbon dioxide equivalent last year — roughly equivalent to what two million U.S. homes and businesses consumed, according to the Energy Information Administration data.\\n\\nThere's a major reason for this, says Jim Watson, director of the National\", 'As they seek to reduce their carbon footprint, power plants around the world are increasingly replacing coal with natural gas, which releases far less carbon into the atmosphere when burned for fuel. But as they do so, environmental advocates are highlighting another environmental advantage for natural gas: it often has high levels of air pollution—in particular, sulfur—that may put people’s health at risk.\\n\\n“There is no question that natural gas causes significant environmental health and safety harms,” says David Andrews, executive director of the Environmental Defense Fund. “It’s not like the case with coal.” The question of whether those harms are worth the climate benefits of natural gas is complicated, however.\\n\\nNatural gas is used as a fuel in the United States and in many countries outside the United States. It is cleaner than coal on a per-unit basis because it does not produce as much carbon, but still emits more than wind or solar power because of its sulfur content. The industry uses sulfur to prevent its natural gas from leaking out of pipes, and there is no substitute for this natural feature of the molecule. Sulfur also helps prevent combustion of natural gas from smoky.\\n\\nIn fact, the use of sulfur, which has been growing steadily since it was introduced decades ago, is one of the key differences between the United States and the rest of the world, says Charles Altermatt, chief executive of the Interstate Natural Gas Association of America. �', 'As they seek to reduce their carbon footprint, power plants around the world are increasingly replacing coal with natural gas, which releases far less carbon into the atmosphere when burned for fuel. But some have begun investigating other ways to burn it—and the results have been startling. As an alternative to gas, scientists are investigating a “carbon sponge” known as graphene that can absorb and store more than 15 times the amount of carbon released by natural gas and even coal, according to a study published this week in the Proceedings of the National Academy of Sciences (PNAS). In doing so, these gases could help stabilize climate change.\\n\\nWhile natural gas and coal are still the dominant sources of electricity worldwide, they are increasingly under pressure for their impact on the environment, as fossil-fuel-fired power stations have been shown to contribute as much as 35 percent of global emissions of methane and carbon dioxide. In addition, they are extremely fuel-intensive and their global reliance has had a dramatic impact on the price of natural gas. A report by the US energy department in January found that by 2030, coal will be the cheapest way to generate power.\\n\\nAs this happens, a number of researchers are working to find an alternative to fossil fuels, which emit large amounts of carbon during combustion, and some are investigating graphene as a potential replacement. “We’re trying to find some sort of new way to produce power, or at least reduce our dependence on coal,” says Alyss', 'As they seek to reduce their carbon footprint, power plants around the world are increasingly replacing coal with natural gas, which releases far less carbon into the atmosphere when burned for fuel.\\n\\nBut gas-fired power plants produce far less carbon-free electricity. If all coal- and gas-fired plants were replaced with gas, the global average carbon dioxide emissions would increase by around 10 percent, from their current level of about 7.4 billion tons of carbon dioxide per year, according to a recent study by the Global Carbon Project.\\n\\nThat shift could increase power bills and threaten the competitiveness of clean-energy industries. And it may even mean that the world will miss an important climate change opportunity, researchers warn.\\n\\n“If you have a lot of coal and a lot of gas, and you suddenly add in a lot of gas, you’re not going to see anywhere near the same environmental benefits as if you have a lot of coal and only gas,” said Michael Wara, director of Stanford University’s School of Earth, Energy and Environmental Sciences.\\n\\nThe problem is that gas isn’t as clean as some people claim, either in terms of its carbon emissions or its potential to pollute local air and water supplies, Wara said.\\n\\n“It’s not a benign transition,” he said.\\n\\nThe U.S. Environmental Protection Agency and the Department of Energy in 2016 said that gas power plant', 'As they seek to reduce their carbon footprint, power plants around the world are increasingly replacing coal with natural gas, which releases far less carbon into the atmosphere when burned for fuel.\\n\\nBut in order to replace coal with natural gas, power plants need to burn natural gas in a way that makes it possible for them to capture the emissions that they otherwise would release, and bury them, without burning more natural gas.\\n\\nIn China, for instance, the replacement of coal with natural gas has allowed the country to reduce its carbon emissions. Last year, China’s carbon emissions were 17 percent lower than they were a year earlier. In 2017, natural gas accounted for more than half of the reduction in carbon emissions.\\n\\nThe United States is well on its way to adopting a similar energy mix, and some experts predict that the shift to natural gas will continue, despite a push by some environmentalists to slow the transition by pushing for a tax on carbon emissions.\\n\\nAD\\n\\nAD\\n\\nUnder the Trump administration, the Environmental Protection Agency is planning to eliminate rules that were designed to reduce the levels of greenhouse gases that power plants are allowed to emit, a regulation known as the Clean Air Act. On Wednesday, EPA head Scott Pruitt defended the rule.\\n\\n“Our air is a little bit cleaner in our country today because of the Clean Air Act,” Pruitt said at the American Enterprise Institute. “It was a tremendous accomplishment for what we were able to do']\n",
      "But while coal is far more carbon-intensive than natural gas, according to a 2011 U.S. Energy Information Administration study, there are no accurate, nationwide-scale data on the carbon-intensity of other power-plant fuels, like biomass, oil and petroleum coke.\n",
      "This means some carbon emissions data that should not be confused with others.\n",
      "For instance, there's a misconception among many people and some lawmakers that coal-fired power plants are among the largest sources of greenhouse gases worldwide and responsible for the largest share of U.S. emissions that contribute to climate change.\n",
      "But the Energy Information Administration's data suggest otherwise:\n",
      "\n",
      "U.S. coal-fired power plants are responsible for just 10% of U.S. greenhouse gas emissions in 2010.\n",
      "The same holds true globally: U.S. coal-fired power plants' share of greenhouse gas emissions was below 3%, according to estimates from a recent global climate report.\n",
      "U.S. coal-fired power plants emitted just over 3.3 million metric tons of carbon dioxide equivalent last year — roughly equivalent to what two million U.S. homes and businesses consumed, according to the Energy Information Administration data.\n",
      "\n",
      "But as they do so, environmental advocates are highlighting another environmental advantage for natural gas: it often has high levels of air pollution—in particular, sulfur—that may put people’s health at risk.\n",
      "“There is no question that natural gas causes significant environmental health and safety harms,” says David Andrews, executive director of the Environmental Defense Fund.\n",
      "“It’s not like the case with coal.” The question of whether those harms are worth the climate benefits of natural gas is complicated, however.\n",
      "Natural gas is used as a fuel in the United States and in many countries outside the United States.\n",
      "It is cleaner than coal on a per-unit basis because it does not produce as much carbon, but still emits more than wind or solar power because of its sulfur content.\n",
      "The industry uses sulfur to prevent its natural gas from leaking out of pipes, and there is no substitute for this natural feature of the molecule.\n",
      "Sulfur also helps prevent combustion of natural gas from smoky.\n",
      "In fact, the use of sulfur, which has been growing steadily since it was introduced decades ago, is one of the key differences between the United States and the rest of the world, says Charles Altermatt, chief executive of the Interstate Natural Gas Association of America.\n",
      "\n",
      "But some have begun investigating other ways to burn it—and the results have been startling.\n",
      "As an alternative to gas, scientists are investigating a “carbon sponge” known as graphene that can absorb and store more than 15 times the amount of carbon released by natural gas and even coal, according to a study published this week in the Proceedings of the National Academy of Sciences (PNAS).\n",
      "In doing so, these gases could help stabilize climate change.\n",
      "While natural gas and coal are still the dominant sources of electricity worldwide, they are increasingly under pressure for their impact on the environment, as fossil-fuel-fired power stations have been shown to contribute as much as 35 percent of global emissions of methane and carbon dioxide.\n",
      "In addition, they are extremely fuel-intensive and their global reliance has had a dramatic impact on the price of natural gas.\n",
      "A report by the US energy department in January found that by 2030, coal will be the cheapest way to generate power.\n",
      "As this happens, a number of researchers are working to find an alternative to fossil fuels, which emit large amounts of carbon during combustion, and some are investigating graphene as a potential replacement.\n",
      "\n",
      "But gas-fired power plants produce far less carbon-free electricity.\n",
      "If all coal- and gas-fired plants were replaced with gas, the global average carbon dioxide emissions would increase by around 10 percent, from their current level of about 7.4 billion tons of carbon dioxide per year, according to a recent study by the Global Carbon Project.\n",
      "That shift could increase power bills and threaten the competitiveness of clean-energy industries.\n",
      "And it may even mean that the world will miss an important climate change opportunity, researchers warn.\n",
      "“If you have a lot of coal and a lot of gas, and you suddenly add in a lot of gas, you’re not going to see anywhere near the same environmental benefits as if you have a lot of coal and only gas,” said Michael Wara, director of Stanford University’s School of Earth, Energy and Environmental Sciences.\n",
      "The problem is that gas isn’t as clean as some people claim, either in terms of its carbon emissions or its potential to pollute local air and water supplies, Wara said.\n",
      "“It’s not a benign transition,” he said.\n",
      "\n",
      "But in order to replace coal with natural gas, power plants need to burn natural gas in a way that makes it possible for them to capture the emissions that they otherwise would release, and bury them, without burning more natural gas.\n",
      "In China, for instance, the replacement of coal with natural gas has allowed the country to reduce its carbon emissions.\n",
      "Last year, China’s carbon emissions were 17 percent lower than they were a year earlier.\n",
      "In 2017, natural gas accounted for more than half of the reduction in carbon emissions.\n",
      "The United States is well on its way to adopting a similar energy mix, and some experts predict that the shift to natural gas will continue, despite a push by some environmentalists to slow the transition by pushing for a tax on carbon emissions.\n",
      "AD\n",
      "\n",
      "AD\n",
      "\n",
      "Under the Trump administration, the Environmental Protection Agency is planning to eliminate rules that were designed to reduce the levels of greenhouse gases that power plants are allowed to emit, a regulation known as the Clean Air Act.\n",
      "On Wednesday, EPA head Scott Pruitt defended the rule.\n",
      "“Our air is a little bit cleaner in our country today because of the Clean Air Act,” Pruitt said at the American Enterprise Institute.\n",
      "\n"
     ]
    },
    {
     "name": "stderr",
     "output_type": "stream",
     "text": [
      "100%|██████████| 3/3 [01:04<00:00, 21.47s/it]"
     ]
    },
    {
     "name": "stdout",
     "output_type": "stream",
     "text": [
      "['Image generation uses techniques from a subset of machine learning called deep learning, which has driven most of the advancements in the field of artificial intelligence since a landmark 2012 paper about image classification ignited renewed interest in the technology.\\n\\nTo put it mildly, this technology is amazing. Here’s one example: For the first time, you can now control an animated avatar and make it look like it’s actually you. This is the sort of thing we couldn’t have imagined just a few short years ago.\\n\\nBut as impressive as it may sound, you’re reading this article with the idea that you’re already familiar with all the technology you need to take full advantage of image generation. It’s true that you probably already have a basic understanding of the basics. However, I don’t want to limit you to the basics. I want you to have access to cutting-edge tools to expand the boundaries of what you can do with images.\\n\\nWe’re going to use a few of these new tools that have become available in recent years, namely, some new modules available in Theano (a python-based programming library), Keras (another python library), and Google Cloud Vision (another google toolkit). While not the only way to use these tools, they’re by far the easiest and quickest methods.\\n\\nSo let’s get to it. You’ll learn how to:\\n', 'Image generation uses techniques from a subset of machine learning called deep learning, which has driven most of the advancements in the field of artificial intelligence since a landmark 2012 paper about image classification ignited renewed interest in the technology.\\n\\nIt’s impossible to tell what the future holds for artificial intelligence, given how it has evolved over the past several decades. For a lot of computer science researchers, it will look a lot like 2015, when researchers discovered a simple computational method to train deep neural networks. The process was described in a 2010 landmark paper in the journal Nature by four researchers at Facebook.\\n\\nIt wasn’t until a couple of years later, in 2012, that it became common knowledge that the method had been known for a decade but wasn’t widely appreciated.\\n\\nThe paper was the result of a collaboration among Yoshua Bengio, a researcher with the University of Montreal, Canada, Guy Laradji of Facebook, and two of Bengio’s students, Hugo Larochelle and Yoshua Bengio. It used a process called backpropagation, first described by an Australian researcher named Frank Rosenblatt in a 1957 paper in the journal Mathematical Programming. Backpropagation is the process of using a method called gradient descent to adjust the values of neurons within a neural network so that they better match what we, as humans, would intuitively like the network to predict. It is now one of the most widely used techniques for training neural networks', 'Image generation uses techniques from a subset of machine learning called deep learning, which has driven most of the advancements in the field of artificial intelligence since a landmark 2012 paper about image classification ignited renewed interest in the technology.\\n\\nIn the past year, we have seen advances in image recognition, object detection, scene perception, image synthesis and the like, most of which stem from a combination of techniques based on deep learning, or the study of artificial neural networks with multiple layers of multiple types of neurons.\\n\\nBut most research and innovation has, for the past few decades, centered around image classification and recognition, which, to oversimplify a bit, is the ability of algorithms to distinguish certain objects from others in images—in the context of the problem, for instance, recognizing faces. Now, there’s a new generation of deep-learning techniques to tackle new problems.\\n\\nWhile the recent proliferation of deep-learning techniques has been marked by both excitement and controversy, it has also resulted in the production of a new, large and varied body of research on the topic. The purpose of this blog post is to introduce you to the newest approaches to image generation, and provide an overview of their most significant advantages and limitations.\\n\\nWhat’s new\\n\\nMany algorithms now allow for image generation. The algorithms can be grouped into four general categories, which we’ll describe in turn:\\n\\nGenerative models: algorithms that produce an image directly from an encoded model,', 'Image generation uses techniques from a subset of machine learning called deep learning, which has driven most of the advancements in the field of artificial intelligence since a landmark 2012 paper about image classification ignited renewed interest in the technology. For instance, a 2014 study concluded deep-learning-based facial recognition software outperformed human performance in distinguishing faces from a set of randomly shuffled images. Such machines are now being deployed for everything from image enhancement and noise reduction to identifying specific parts of plants, animals, and people.\\n\\nResearchers have since begun applying the technology to images of plants, the type of images that typically accompany scientific papers. In 2017, a team of computer scientists published an article in PLOS One on developing artificial-intelligence systems to help classify images of plants from different groups. This study—the latest in a series of computer-generated plant classification systems to emerge in the past few years—proved most successful at distinguishing between two species of succulent, the desert cacti. “That’s a pretty strong finding,” says Jeremy Schaffer, an assistant professor in the department of biological sciences at the University of Minnesota, who was not involved in the study. The researchers also were able to correctly classify most individual plants, he notes, although they had a harder time categorizing those that were similar to one another, like the desert cacti or aloes.\\n\\nSchaffer says the researchers’ method is quite clever and has many interesting implications for plant taxonomy', 'Image generation uses techniques from a subset of machine learning called deep learning, which has driven most of the advancements in the field of artificial intelligence since a landmark 2012 paper about image classification ignited renewed interest in the technology.\\n\\nThe term “deep” refers to the use of multiple layers of processing units to create artificial “neural” networks that mimic the neural networks that humans use. While human neural networks have a few dozen layers, deep learning’s best models have up to 50 layers (sometimes called “convolutional neural networks,” “autoencoder neural networks” or “deep networks.”) Each of these layers processes data in a specific way that helps separate and group pixels and creates a hierarchy of representations that can be used to detect a variety of features.\\n\\nBecause deep learning models excel at learning abstract representations, they have been used to improve speech recognition, automatic speech correction, natural language processing and image recognition, among other applications. Image generation, however, has lagged behind. While it has been used for facial recognition systems to detect people in a crowd, it has largely been limited to generating realistic faces with a human-like range of expression.\\n\\nIn an online paper called “Deep Imagina,” researchers from the Massachusetts Institute of Technology and Google’s DeepMind AI lab have found a way to build the first generative image machine that can generate realistic images. The approach, which']\n",
      "To put it mildly, this technology is amazing.\n",
      "Here’s one example: For the first time, you can now control an animated avatar and make it look like it’s actually you.\n",
      "This is the sort of thing we couldn’t have imagined just a few short years ago.\n",
      "But as impressive as it may sound, you’re reading this article with the idea that you’re already familiar with all the technology you need to take full advantage of image generation.\n",
      "It’s true that you probably already have a basic understanding of the basics.\n",
      "However, I don’t want to limit you to the basics.\n",
      "I want you to have access to cutting-edge tools to expand the boundaries of what you can do with images.\n",
      "We’re going to use a few of these new tools that have become available in recent years, namely, some new modules available in Theano (a python-based programming library), Keras (another python library), and Google Cloud Vision (another google toolkit).\n",
      "While not the only way to use these tools, they’re by far the easiest and quickest methods.\n",
      "So let’s get to it.\n",
      "\n",
      "It’s impossible to tell what the future holds for artificial intelligence, given how it has evolved over the past several decades.\n",
      "For a lot of computer science researchers, it will look a lot like 2015, when researchers discovered a simple computational method to train deep neural networks.\n",
      "The process was described in a 2010 landmark paper in the journal Nature by four researchers at Facebook.\n",
      "It wasn’t until a couple of years later, in 2012, that it became common knowledge that the method had been known for a decade but wasn’t widely appreciated.\n",
      "The paper was the result of a collaboration among Yoshua Bengio, a researcher with the University of Montreal, Canada, Guy Laradji of Facebook, and two of Bengio’s students, Hugo Larochelle and Yoshua Bengio.\n",
      "It used a process called backpropagation, first described by an Australian researcher named Frank Rosenblatt in a 1957 paper in the journal Mathematical Programming.\n",
      "Backpropagation is the process of using a method called gradient descent to adjust the values of neurons within a neural network so that they better match what we, as humans, would intuitively like the network to predict.\n",
      "\n",
      "In the past year, we have seen advances in image recognition, object detection, scene perception, image synthesis and the like, most of which stem from a combination of techniques based on deep learning, or the study of artificial neural networks with multiple layers of multiple types of neurons.\n",
      "But most research and innovation has, for the past few decades, centered around image classification and recognition, which, to oversimplify a bit, is the ability of algorithms to distinguish certain objects from others in images—in the context of the problem, for instance, recognizing faces.\n",
      "Now, there’s a new generation of deep-learning techniques to tackle new problems.\n",
      "While the recent proliferation of deep-learning techniques has been marked by both excitement and controversy, it has also resulted in the production of a new, large and varied body of research on the topic.\n",
      "The purpose of this blog post is to introduce you to the newest approaches to image generation, and provide an overview of their most significant advantages and limitations.\n",
      "What’s new\n",
      "\n",
      "Many algorithms now allow for image generation.\n",
      "\n",
      "For instance, a 2014 study concluded deep-learning-based facial recognition software outperformed human performance in distinguishing faces from a set of randomly shuffled images.\n",
      "Such machines are now being deployed for everything from image enhancement and noise reduction to identifying specific parts of plants, animals, and people.\n",
      "Researchers have since begun applying the technology to images of plants, the type of images that typically accompany scientific papers.\n",
      "In 2017, a team of computer scientists published an article in PLOS One on developing artificial-intelligence systems to help classify images of plants from different groups.\n",
      "This study—the latest in a series of computer-generated plant classification systems to emerge in the past few years—proved most successful at distinguishing between two species of succulent, the desert cacti.\n",
      "“That’s a pretty strong finding,” says Jeremy Schaffer, an assistant professor in the department of biological sciences at the University of Minnesota, who was not involved in the study.\n",
      "The researchers also were able to correctly classify most individual plants, he notes, although they had a harder time categorizing those that were similar to one another, like the desert cacti or aloes.\n",
      "\n",
      "The term “deep” refers to the use of multiple layers of processing units to create artificial “neural” networks that mimic the neural networks that humans use.\n",
      "While human neural networks have a few dozen layers, deep learning’s best models have up to 50 layers (sometimes called “convolutional neural networks,” “autoencoder neural networks” or “deep networks.”) Each of these layers processes data in a specific way that helps separate and group pixels and creates a hierarchy of representations that can be used to detect a variety of features.\n",
      "Because deep learning models excel at learning abstract representations, they have been used to improve speech recognition, automatic speech correction, natural language processing and image recognition, among other applications.\n",
      "Image generation, however, has lagged behind.\n",
      "While it has been used for facial recognition systems to detect people in a crowd, it has largely been limited to generating realistic faces with a human-like range of expression.\n",
      "In an online paper called “Deep Imagina,” researchers from the Massachusetts Institute of Technology and Google’s DeepMind AI lab have found a way to build the first generative image machine that can generate realistic images.\n",
      "\n"
     ]
    },
    {
     "name": "stderr",
     "output_type": "stream",
     "text": [
      "\n"
     ]
    }
   ],
   "source": [
    "from tqdm import tqdm\n",
    "\n",
    "import nltk.data\n",
    "\n",
    "sent_splitter = nltk.data.load('tokenizers/punkt/english.pickle')\n",
    "\n",
    "with open(target_file) as target, open (output_file, \"a+\") as output:\n",
    "    output.seek(0)\n",
    "    output.truncate()\n",
    "\n",
    "    for line in tqdm(target, total=tqdm_total):\n",
    "        line = line.strip()\n",
    "        input_ids = tokenizer(line, return_tensors=\"pt\").input_ids.to(\"cuda\")\n",
    "\n",
    "        generated_tokens = model.generate(input_ids,\n",
    "                                          do_sample=True,\n",
    "                                          max_length=300,\n",
    "                                          top_k=50,\n",
    "                                          top_p=0.95,\n",
    "                                          num_return_sequences=5,\n",
    "                                          early_stopping=True)\n",
    "\n",
    "        generated_text_beam = tokenizer.batch_decode(generated_tokens, skip_special_tokens=True)\n",
    "        print(generated_text_beam)\n",
    "        for genenrated_output in generated_text_beam:\n",
    "            # Split generated text into sentences\n",
    "            generated_lines = sent_splitter.tokenize(genenrated_output)\n",
    "            # remove the first sent, which is the original one\n",
    "            # remove the last sent as it might be truncated\n",
    "            generated_lines = generated_lines[1:-1]\n",
    "            # Add new lines between sentences, and exclude too short strings (less than 10 characters)\n",
    "            generated_lines = \"\\n\".join([text.strip() for text in generated_lines if len(text) > 10]) + \"\\n\"\n",
    "            print(generated_lines)\n",
    "            output.write(generated_lines)"
   ]
  }
 ],
 "metadata": {
  "kernelspec": {
   "display_name": "Python 3.6.10 ('python3')",
   "language": "python",
   "name": "python3"
  },
  "language_info": {
   "codemirror_mode": {
    "name": "ipython",
    "version": 3
   },
   "file_extension": ".py",
   "mimetype": "text/x-python",
   "name": "python",
   "nbconvert_exporter": "python",
   "pygments_lexer": "ipython3",
   "version": "3.6.10"
  },
  "orig_nbformat": 4,
  "vscode": {
   "interpreter": {
    "hash": "6e6b819e3d6ce1b3469d64c9a73b8e3d0cb3f61adff56e1d9ccf4e24747b687e"
   }
  }
 },
 "nbformat": 4,
 "nbformat_minor": 2
}
